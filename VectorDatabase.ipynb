{
  "cells": [
    {
      "cell_type": "markdown",
      "metadata": {
        "id": "5yxlCJg-vw6r"
      },
      "source": [
        "##Build a local InMemory VectorDb using Langchain"
      ]
    },
    {
      "cell_type": "code",
      "execution_count": 1,
      "metadata": {
        "colab": {
          "base_uri": "https://localhost:8080/"
        },
        "id": "0TeHRoanp6-3",
        "outputId": "6c3bcd8d-313a-4965-8bcd-e19de470553e"
      },
      "outputs": [
        {
          "name": "stdout",
          "output_type": "stream",
          "text": [
            "Requirement already satisfied: langchain in /workspaces/Agentic_rag/.venv/lib/python3.12/site-packages (0.3.13)\n",
            "Requirement already satisfied: langgraph in /workspaces/Agentic_rag/.venv/lib/python3.12/site-packages (0.2.60)\n",
            "Requirement already satisfied: langchain_community in /workspaces/Agentic_rag/.venv/lib/python3.12/site-packages (0.3.12)\n",
            "Requirement already satisfied: langchain_huggingface in /workspaces/Agentic_rag/.venv/lib/python3.12/site-packages (0.1.2)\n",
            "Requirement already satisfied: chromadb in /workspaces/Agentic_rag/.venv/lib/python3.12/site-packages (0.5.23)\n",
            "Collecting pypdf\n",
            "  Downloading pypdf-5.1.0-py3-none-any.whl.metadata (7.2 kB)\n",
            "Requirement already satisfied: PyYAML>=5.3 in /workspaces/Agentic_rag/.venv/lib/python3.12/site-packages (from langchain) (6.0.2)\n",
            "Requirement already satisfied: SQLAlchemy<3,>=1.4 in /workspaces/Agentic_rag/.venv/lib/python3.12/site-packages (from langchain) (2.0.36)\n",
            "Requirement already satisfied: aiohttp<4.0.0,>=3.8.3 in /workspaces/Agentic_rag/.venv/lib/python3.12/site-packages (from langchain) (3.11.11)\n",
            "Requirement already satisfied: langchain-core<0.4.0,>=0.3.26 in /workspaces/Agentic_rag/.venv/lib/python3.12/site-packages (from langchain) (0.3.27)\n",
            "Requirement already satisfied: langchain-text-splitters<0.4.0,>=0.3.3 in /workspaces/Agentic_rag/.venv/lib/python3.12/site-packages (from langchain) (0.3.4)\n",
            "Requirement already satisfied: langsmith<0.3,>=0.1.17 in /workspaces/Agentic_rag/.venv/lib/python3.12/site-packages (from langchain) (0.2.4)\n",
            "Requirement already satisfied: numpy<3,>=1.26.2 in /workspaces/Agentic_rag/.venv/lib/python3.12/site-packages (from langchain) (2.2.0)\n",
            "Requirement already satisfied: pydantic<3.0.0,>=2.7.4 in /workspaces/Agentic_rag/.venv/lib/python3.12/site-packages (from langchain) (2.10.4)\n",
            "Requirement already satisfied: requests<3,>=2 in /workspaces/Agentic_rag/.venv/lib/python3.12/site-packages (from langchain) (2.32.3)\n",
            "Requirement already satisfied: tenacity!=8.4.0,<10,>=8.1.0 in /workspaces/Agentic_rag/.venv/lib/python3.12/site-packages (from langchain) (9.0.0)\n",
            "Requirement already satisfied: langgraph-checkpoint<3.0.0,>=2.0.4 in /workspaces/Agentic_rag/.venv/lib/python3.12/site-packages (from langgraph) (2.0.9)\n",
            "Requirement already satisfied: langgraph-sdk<0.2.0,>=0.1.42 in /workspaces/Agentic_rag/.venv/lib/python3.12/site-packages (from langgraph) (0.1.48)\n",
            "Requirement already satisfied: dataclasses-json<0.7,>=0.5.7 in /workspaces/Agentic_rag/.venv/lib/python3.12/site-packages (from langchain_community) (0.6.7)\n",
            "Requirement already satisfied: httpx-sse<0.5.0,>=0.4.0 in /workspaces/Agentic_rag/.venv/lib/python3.12/site-packages (from langchain_community) (0.4.0)\n",
            "Requirement already satisfied: pydantic-settings<3.0.0,>=2.4.0 in /workspaces/Agentic_rag/.venv/lib/python3.12/site-packages (from langchain_community) (2.7.0)\n",
            "Requirement already satisfied: huggingface-hub>=0.23.0 in /workspaces/Agentic_rag/.venv/lib/python3.12/site-packages (from langchain_huggingface) (0.27.0)\n",
            "Requirement already satisfied: sentence-transformers>=2.6.0 in /workspaces/Agentic_rag/.venv/lib/python3.12/site-packages (from langchain_huggingface) (3.3.1)\n",
            "Requirement already satisfied: tokenizers>=0.19.1 in /workspaces/Agentic_rag/.venv/lib/python3.12/site-packages (from langchain_huggingface) (0.20.3)\n",
            "Requirement already satisfied: transformers>=4.39.0 in /workspaces/Agentic_rag/.venv/lib/python3.12/site-packages (from langchain_huggingface) (4.46.3)\n",
            "Requirement already satisfied: build>=1.0.3 in /workspaces/Agentic_rag/.venv/lib/python3.12/site-packages (from chromadb) (1.2.2.post1)\n",
            "Requirement already satisfied: chroma-hnswlib==0.7.6 in /workspaces/Agentic_rag/.venv/lib/python3.12/site-packages (from chromadb) (0.7.6)\n",
            "Requirement already satisfied: fastapi>=0.95.2 in /workspaces/Agentic_rag/.venv/lib/python3.12/site-packages (from chromadb) (0.115.6)\n",
            "Requirement already satisfied: uvicorn>=0.18.3 in /workspaces/Agentic_rag/.venv/lib/python3.12/site-packages (from uvicorn[standard]>=0.18.3->chromadb) (0.34.0)\n",
            "Requirement already satisfied: posthog>=2.4.0 in /workspaces/Agentic_rag/.venv/lib/python3.12/site-packages (from chromadb) (3.7.4)\n",
            "Requirement already satisfied: typing_extensions>=4.5.0 in /workspaces/Agentic_rag/.venv/lib/python3.12/site-packages (from chromadb) (4.12.2)\n",
            "Requirement already satisfied: onnxruntime>=1.14.1 in /workspaces/Agentic_rag/.venv/lib/python3.12/site-packages (from chromadb) (1.20.1)\n",
            "Requirement already satisfied: opentelemetry-api>=1.2.0 in /workspaces/Agentic_rag/.venv/lib/python3.12/site-packages (from chromadb) (1.29.0)\n",
            "Requirement already satisfied: opentelemetry-exporter-otlp-proto-grpc>=1.2.0 in /workspaces/Agentic_rag/.venv/lib/python3.12/site-packages (from chromadb) (1.29.0)\n",
            "Requirement already satisfied: opentelemetry-instrumentation-fastapi>=0.41b0 in /workspaces/Agentic_rag/.venv/lib/python3.12/site-packages (from chromadb) (0.50b0)\n",
            "Requirement already satisfied: opentelemetry-sdk>=1.2.0 in /workspaces/Agentic_rag/.venv/lib/python3.12/site-packages (from chromadb) (1.29.0)\n",
            "Requirement already satisfied: pypika>=0.48.9 in /workspaces/Agentic_rag/.venv/lib/python3.12/site-packages (from chromadb) (0.48.9)\n",
            "Requirement already satisfied: tqdm>=4.65.0 in /workspaces/Agentic_rag/.venv/lib/python3.12/site-packages (from chromadb) (4.67.1)\n",
            "Requirement already satisfied: overrides>=7.3.1 in /workspaces/Agentic_rag/.venv/lib/python3.12/site-packages (from chromadb) (7.7.0)\n",
            "Requirement already satisfied: importlib-resources in /workspaces/Agentic_rag/.venv/lib/python3.12/site-packages (from chromadb) (6.4.5)\n",
            "Requirement already satisfied: grpcio>=1.58.0 in /workspaces/Agentic_rag/.venv/lib/python3.12/site-packages (from chromadb) (1.68.1)\n",
            "Requirement already satisfied: bcrypt>=4.0.1 in /workspaces/Agentic_rag/.venv/lib/python3.12/site-packages (from chromadb) (4.2.1)\n",
            "Requirement already satisfied: typer>=0.9.0 in /workspaces/Agentic_rag/.venv/lib/python3.12/site-packages (from chromadb) (0.15.1)\n",
            "Requirement already satisfied: kubernetes>=28.1.0 in /workspaces/Agentic_rag/.venv/lib/python3.12/site-packages (from chromadb) (31.0.0)\n",
            "Requirement already satisfied: mmh3>=4.0.1 in /workspaces/Agentic_rag/.venv/lib/python3.12/site-packages (from chromadb) (5.0.1)\n",
            "Requirement already satisfied: orjson>=3.9.12 in /workspaces/Agentic_rag/.venv/lib/python3.12/site-packages (from chromadb) (3.10.12)\n",
            "Requirement already satisfied: httpx>=0.27.0 in /workspaces/Agentic_rag/.venv/lib/python3.12/site-packages (from chromadb) (0.28.1)\n",
            "Requirement already satisfied: rich>=10.11.0 in /workspaces/Agentic_rag/.venv/lib/python3.12/site-packages (from chromadb) (13.9.4)\n",
            "Requirement already satisfied: aiohappyeyeballs>=2.3.0 in /workspaces/Agentic_rag/.venv/lib/python3.12/site-packages (from aiohttp<4.0.0,>=3.8.3->langchain) (2.4.4)\n",
            "Requirement already satisfied: aiosignal>=1.1.2 in /workspaces/Agentic_rag/.venv/lib/python3.12/site-packages (from aiohttp<4.0.0,>=3.8.3->langchain) (1.3.2)\n",
            "Requirement already satisfied: attrs>=17.3.0 in /workspaces/Agentic_rag/.venv/lib/python3.12/site-packages (from aiohttp<4.0.0,>=3.8.3->langchain) (24.3.0)\n",
            "Requirement already satisfied: frozenlist>=1.1.1 in /workspaces/Agentic_rag/.venv/lib/python3.12/site-packages (from aiohttp<4.0.0,>=3.8.3->langchain) (1.5.0)\n",
            "Requirement already satisfied: multidict<7.0,>=4.5 in /workspaces/Agentic_rag/.venv/lib/python3.12/site-packages (from aiohttp<4.0.0,>=3.8.3->langchain) (6.1.0)\n",
            "Requirement already satisfied: propcache>=0.2.0 in /workspaces/Agentic_rag/.venv/lib/python3.12/site-packages (from aiohttp<4.0.0,>=3.8.3->langchain) (0.2.1)\n",
            "Requirement already satisfied: yarl<2.0,>=1.17.0 in /workspaces/Agentic_rag/.venv/lib/python3.12/site-packages (from aiohttp<4.0.0,>=3.8.3->langchain) (1.18.3)\n",
            "Requirement already satisfied: packaging>=19.1 in /workspaces/Agentic_rag/.venv/lib/python3.12/site-packages (from build>=1.0.3->chromadb) (24.2)\n",
            "Requirement already satisfied: pyproject_hooks in /workspaces/Agentic_rag/.venv/lib/python3.12/site-packages (from build>=1.0.3->chromadb) (1.2.0)\n",
            "Requirement already satisfied: marshmallow<4.0.0,>=3.18.0 in /workspaces/Agentic_rag/.venv/lib/python3.12/site-packages (from dataclasses-json<0.7,>=0.5.7->langchain_community) (3.23.2)\n",
            "Requirement already satisfied: typing-inspect<1,>=0.4.0 in /workspaces/Agentic_rag/.venv/lib/python3.12/site-packages (from dataclasses-json<0.7,>=0.5.7->langchain_community) (0.9.0)\n",
            "Requirement already satisfied: starlette<0.42.0,>=0.40.0 in /workspaces/Agentic_rag/.venv/lib/python3.12/site-packages (from fastapi>=0.95.2->chromadb) (0.41.3)\n",
            "Requirement already satisfied: anyio in /workspaces/Agentic_rag/.venv/lib/python3.12/site-packages (from httpx>=0.27.0->chromadb) (4.7.0)\n",
            "Requirement already satisfied: certifi in /workspaces/Agentic_rag/.venv/lib/python3.12/site-packages (from httpx>=0.27.0->chromadb) (2024.12.14)\n",
            "Requirement already satisfied: httpcore==1.* in /workspaces/Agentic_rag/.venv/lib/python3.12/site-packages (from httpx>=0.27.0->chromadb) (1.0.7)\n",
            "Requirement already satisfied: idna in /workspaces/Agentic_rag/.venv/lib/python3.12/site-packages (from httpx>=0.27.0->chromadb) (3.10)\n",
            "Requirement already satisfied: h11<0.15,>=0.13 in /workspaces/Agentic_rag/.venv/lib/python3.12/site-packages (from httpcore==1.*->httpx>=0.27.0->chromadb) (0.14.0)\n",
            "Requirement already satisfied: filelock in /workspaces/Agentic_rag/.venv/lib/python3.12/site-packages (from huggingface-hub>=0.23.0->langchain_huggingface) (3.16.1)\n",
            "Requirement already satisfied: fsspec>=2023.5.0 in /workspaces/Agentic_rag/.venv/lib/python3.12/site-packages (from huggingface-hub>=0.23.0->langchain_huggingface) (2024.10.0)\n",
            "Requirement already satisfied: six>=1.9.0 in /workspaces/Agentic_rag/.venv/lib/python3.12/site-packages (from kubernetes>=28.1.0->chromadb) (1.17.0)\n",
            "Requirement already satisfied: python-dateutil>=2.5.3 in /workspaces/Agentic_rag/.venv/lib/python3.12/site-packages (from kubernetes>=28.1.0->chromadb) (2.9.0.post0)\n",
            "Requirement already satisfied: google-auth>=1.0.1 in /workspaces/Agentic_rag/.venv/lib/python3.12/site-packages (from kubernetes>=28.1.0->chromadb) (2.37.0)\n",
            "Requirement already satisfied: websocket-client!=0.40.0,!=0.41.*,!=0.42.*,>=0.32.0 in /workspaces/Agentic_rag/.venv/lib/python3.12/site-packages (from kubernetes>=28.1.0->chromadb) (1.8.0)\n",
            "Requirement already satisfied: requests-oauthlib in /workspaces/Agentic_rag/.venv/lib/python3.12/site-packages (from kubernetes>=28.1.0->chromadb) (2.0.0)\n",
            "Requirement already satisfied: oauthlib>=3.2.2 in /workspaces/Agentic_rag/.venv/lib/python3.12/site-packages (from kubernetes>=28.1.0->chromadb) (3.2.2)\n",
            "Requirement already satisfied: urllib3>=1.24.2 in /workspaces/Agentic_rag/.venv/lib/python3.12/site-packages (from kubernetes>=28.1.0->chromadb) (2.2.3)\n",
            "Requirement already satisfied: durationpy>=0.7 in /workspaces/Agentic_rag/.venv/lib/python3.12/site-packages (from kubernetes>=28.1.0->chromadb) (0.9)\n",
            "Requirement already satisfied: jsonpatch<2.0,>=1.33 in /workspaces/Agentic_rag/.venv/lib/python3.12/site-packages (from langchain-core<0.4.0,>=0.3.26->langchain) (1.33)\n",
            "Requirement already satisfied: msgpack<2.0.0,>=1.1.0 in /workspaces/Agentic_rag/.venv/lib/python3.12/site-packages (from langgraph-checkpoint<3.0.0,>=2.0.4->langgraph) (1.1.0)\n",
            "Requirement already satisfied: requests-toolbelt<2.0.0,>=1.0.0 in /workspaces/Agentic_rag/.venv/lib/python3.12/site-packages (from langsmith<0.3,>=0.1.17->langchain) (1.0.0)\n",
            "Requirement already satisfied: coloredlogs in /workspaces/Agentic_rag/.venv/lib/python3.12/site-packages (from onnxruntime>=1.14.1->chromadb) (15.0.1)\n",
            "Requirement already satisfied: flatbuffers in /workspaces/Agentic_rag/.venv/lib/python3.12/site-packages (from onnxruntime>=1.14.1->chromadb) (24.3.25)\n",
            "Requirement already satisfied: protobuf in /workspaces/Agentic_rag/.venv/lib/python3.12/site-packages (from onnxruntime>=1.14.1->chromadb) (5.29.2)\n",
            "Requirement already satisfied: sympy in /workspaces/Agentic_rag/.venv/lib/python3.12/site-packages (from onnxruntime>=1.14.1->chromadb) (1.13.3)\n",
            "Requirement already satisfied: deprecated>=1.2.6 in /workspaces/Agentic_rag/.venv/lib/python3.12/site-packages (from opentelemetry-api>=1.2.0->chromadb) (1.2.15)\n",
            "Requirement already satisfied: importlib-metadata<=8.5.0,>=6.0 in /workspaces/Agentic_rag/.venv/lib/python3.12/site-packages (from opentelemetry-api>=1.2.0->chromadb) (8.5.0)\n",
            "Requirement already satisfied: googleapis-common-protos~=1.52 in /workspaces/Agentic_rag/.venv/lib/python3.12/site-packages (from opentelemetry-exporter-otlp-proto-grpc>=1.2.0->chromadb) (1.66.0)\n",
            "Requirement already satisfied: opentelemetry-exporter-otlp-proto-common==1.29.0 in /workspaces/Agentic_rag/.venv/lib/python3.12/site-packages (from opentelemetry-exporter-otlp-proto-grpc>=1.2.0->chromadb) (1.29.0)\n",
            "Requirement already satisfied: opentelemetry-proto==1.29.0 in /workspaces/Agentic_rag/.venv/lib/python3.12/site-packages (from opentelemetry-exporter-otlp-proto-grpc>=1.2.0->chromadb) (1.29.0)\n",
            "Requirement already satisfied: opentelemetry-instrumentation-asgi==0.50b0 in /workspaces/Agentic_rag/.venv/lib/python3.12/site-packages (from opentelemetry-instrumentation-fastapi>=0.41b0->chromadb) (0.50b0)\n",
            "Requirement already satisfied: opentelemetry-instrumentation==0.50b0 in /workspaces/Agentic_rag/.venv/lib/python3.12/site-packages (from opentelemetry-instrumentation-fastapi>=0.41b0->chromadb) (0.50b0)\n",
            "Requirement already satisfied: opentelemetry-semantic-conventions==0.50b0 in /workspaces/Agentic_rag/.venv/lib/python3.12/site-packages (from opentelemetry-instrumentation-fastapi>=0.41b0->chromadb) (0.50b0)\n",
            "Requirement already satisfied: opentelemetry-util-http==0.50b0 in /workspaces/Agentic_rag/.venv/lib/python3.12/site-packages (from opentelemetry-instrumentation-fastapi>=0.41b0->chromadb) (0.50b0)\n",
            "Requirement already satisfied: wrapt<2.0.0,>=1.0.0 in /workspaces/Agentic_rag/.venv/lib/python3.12/site-packages (from opentelemetry-instrumentation==0.50b0->opentelemetry-instrumentation-fastapi>=0.41b0->chromadb) (1.17.0)\n",
            "Requirement already satisfied: asgiref~=3.0 in /workspaces/Agentic_rag/.venv/lib/python3.12/site-packages (from opentelemetry-instrumentation-asgi==0.50b0->opentelemetry-instrumentation-fastapi>=0.41b0->chromadb) (3.8.1)\n",
            "Requirement already satisfied: monotonic>=1.5 in /workspaces/Agentic_rag/.venv/lib/python3.12/site-packages (from posthog>=2.4.0->chromadb) (1.6)\n",
            "Requirement already satisfied: backoff>=1.10.0 in /workspaces/Agentic_rag/.venv/lib/python3.12/site-packages (from posthog>=2.4.0->chromadb) (2.2.1)\n",
            "Requirement already satisfied: annotated-types>=0.6.0 in /workspaces/Agentic_rag/.venv/lib/python3.12/site-packages (from pydantic<3.0.0,>=2.7.4->langchain) (0.7.0)\n",
            "Requirement already satisfied: pydantic-core==2.27.2 in /workspaces/Agentic_rag/.venv/lib/python3.12/site-packages (from pydantic<3.0.0,>=2.7.4->langchain) (2.27.2)\n",
            "Requirement already satisfied: python-dotenv>=0.21.0 in /workspaces/Agentic_rag/.venv/lib/python3.12/site-packages (from pydantic-settings<3.0.0,>=2.4.0->langchain_community) (1.0.1)\n",
            "Requirement already satisfied: charset-normalizer<4,>=2 in /workspaces/Agentic_rag/.venv/lib/python3.12/site-packages (from requests<3,>=2->langchain) (3.4.0)\n",
            "Requirement already satisfied: markdown-it-py>=2.2.0 in /workspaces/Agentic_rag/.venv/lib/python3.12/site-packages (from rich>=10.11.0->chromadb) (3.0.0)\n",
            "Requirement already satisfied: pygments<3.0.0,>=2.13.0 in /workspaces/Agentic_rag/.venv/lib/python3.12/site-packages (from rich>=10.11.0->chromadb) (2.18.0)\n",
            "Requirement already satisfied: torch>=1.11.0 in /workspaces/Agentic_rag/.venv/lib/python3.12/site-packages (from sentence-transformers>=2.6.0->langchain_huggingface) (2.4.1)\n",
            "Requirement already satisfied: scikit-learn in /workspaces/Agentic_rag/.venv/lib/python3.12/site-packages (from sentence-transformers>=2.6.0->langchain_huggingface) (1.6.0)\n",
            "Requirement already satisfied: scipy in /workspaces/Agentic_rag/.venv/lib/python3.12/site-packages (from sentence-transformers>=2.6.0->langchain_huggingface) (1.14.1)\n",
            "Requirement already satisfied: Pillow in /workspaces/Agentic_rag/.venv/lib/python3.12/site-packages (from sentence-transformers>=2.6.0->langchain_huggingface) (11.0.0)\n",
            "Requirement already satisfied: greenlet!=0.4.17 in /workspaces/Agentic_rag/.venv/lib/python3.12/site-packages (from SQLAlchemy<3,>=1.4->langchain) (3.1.1)\n",
            "Requirement already satisfied: regex!=2019.12.17 in /workspaces/Agentic_rag/.venv/lib/python3.12/site-packages (from transformers>=4.39.0->langchain_huggingface) (2024.11.6)\n",
            "Requirement already satisfied: safetensors>=0.4.1 in /workspaces/Agentic_rag/.venv/lib/python3.12/site-packages (from transformers>=4.39.0->langchain_huggingface) (0.4.5)\n",
            "Requirement already satisfied: click>=8.0.0 in /workspaces/Agentic_rag/.venv/lib/python3.12/site-packages (from typer>=0.9.0->chromadb) (8.1.7)\n",
            "Requirement already satisfied: shellingham>=1.3.0 in /workspaces/Agentic_rag/.venv/lib/python3.12/site-packages (from typer>=0.9.0->chromadb) (1.5.4)\n",
            "Requirement already satisfied: httptools>=0.6.3 in /workspaces/Agentic_rag/.venv/lib/python3.12/site-packages (from uvicorn[standard]>=0.18.3->chromadb) (0.6.4)\n",
            "Requirement already satisfied: uvloop!=0.15.0,!=0.15.1,>=0.14.0 in /workspaces/Agentic_rag/.venv/lib/python3.12/site-packages (from uvicorn[standard]>=0.18.3->chromadb) (0.21.0)\n",
            "Requirement already satisfied: watchfiles>=0.13 in /workspaces/Agentic_rag/.venv/lib/python3.12/site-packages (from uvicorn[standard]>=0.18.3->chromadb) (1.0.3)\n",
            "Requirement already satisfied: websockets>=10.4 in /workspaces/Agentic_rag/.venv/lib/python3.12/site-packages (from uvicorn[standard]>=0.18.3->chromadb) (14.1)\n",
            "Requirement already satisfied: cachetools<6.0,>=2.0.0 in /workspaces/Agentic_rag/.venv/lib/python3.12/site-packages (from google-auth>=1.0.1->kubernetes>=28.1.0->chromadb) (5.5.0)\n",
            "Requirement already satisfied: pyasn1-modules>=0.2.1 in /workspaces/Agentic_rag/.venv/lib/python3.12/site-packages (from google-auth>=1.0.1->kubernetes>=28.1.0->chromadb) (0.4.1)\n",
            "Requirement already satisfied: rsa<5,>=3.1.4 in /workspaces/Agentic_rag/.venv/lib/python3.12/site-packages (from google-auth>=1.0.1->kubernetes>=28.1.0->chromadb) (4.9)\n",
            "Requirement already satisfied: zipp>=3.20 in /workspaces/Agentic_rag/.venv/lib/python3.12/site-packages (from importlib-metadata<=8.5.0,>=6.0->opentelemetry-api>=1.2.0->chromadb) (3.21.0)\n",
            "Requirement already satisfied: jsonpointer>=1.9 in /workspaces/Agentic_rag/.venv/lib/python3.12/site-packages (from jsonpatch<2.0,>=1.33->langchain-core<0.4.0,>=0.3.26->langchain) (3.0.0)\n",
            "Requirement already satisfied: mdurl~=0.1 in /workspaces/Agentic_rag/.venv/lib/python3.12/site-packages (from markdown-it-py>=2.2.0->rich>=10.11.0->chromadb) (0.1.2)\n",
            "Requirement already satisfied: sniffio>=1.1 in /workspaces/Agentic_rag/.venv/lib/python3.12/site-packages (from anyio->httpx>=0.27.0->chromadb) (1.3.1)\n",
            "Requirement already satisfied: networkx in /workspaces/Agentic_rag/.venv/lib/python3.12/site-packages (from torch>=1.11.0->sentence-transformers>=2.6.0->langchain_huggingface) (3.4.2)\n",
            "Requirement already satisfied: jinja2 in /workspaces/Agentic_rag/.venv/lib/python3.12/site-packages (from torch>=1.11.0->sentence-transformers>=2.6.0->langchain_huggingface) (3.1.4)\n",
            "Requirement already satisfied: setuptools in /workspaces/Agentic_rag/.venv/lib/python3.12/site-packages (from torch>=1.11.0->sentence-transformers>=2.6.0->langchain_huggingface) (75.6.0)\n",
            "Requirement already satisfied: nvidia-cuda-nvrtc-cu12==12.1.105 in /workspaces/Agentic_rag/.venv/lib/python3.12/site-packages (from torch>=1.11.0->sentence-transformers>=2.6.0->langchain_huggingface) (12.1.105)\n",
            "Requirement already satisfied: nvidia-cuda-runtime-cu12==12.1.105 in /workspaces/Agentic_rag/.venv/lib/python3.12/site-packages (from torch>=1.11.0->sentence-transformers>=2.6.0->langchain_huggingface) (12.1.105)\n",
            "Requirement already satisfied: nvidia-cuda-cupti-cu12==12.1.105 in /workspaces/Agentic_rag/.venv/lib/python3.12/site-packages (from torch>=1.11.0->sentence-transformers>=2.6.0->langchain_huggingface) (12.1.105)\n",
            "Requirement already satisfied: nvidia-cudnn-cu12==9.1.0.70 in /workspaces/Agentic_rag/.venv/lib/python3.12/site-packages (from torch>=1.11.0->sentence-transformers>=2.6.0->langchain_huggingface) (9.1.0.70)\n",
            "Requirement already satisfied: nvidia-cublas-cu12==12.1.3.1 in /workspaces/Agentic_rag/.venv/lib/python3.12/site-packages (from torch>=1.11.0->sentence-transformers>=2.6.0->langchain_huggingface) (12.1.3.1)\n",
            "Requirement already satisfied: nvidia-cufft-cu12==11.0.2.54 in /workspaces/Agentic_rag/.venv/lib/python3.12/site-packages (from torch>=1.11.0->sentence-transformers>=2.6.0->langchain_huggingface) (11.0.2.54)\n",
            "Requirement already satisfied: nvidia-curand-cu12==10.3.2.106 in /workspaces/Agentic_rag/.venv/lib/python3.12/site-packages (from torch>=1.11.0->sentence-transformers>=2.6.0->langchain_huggingface) (10.3.2.106)\n",
            "Requirement already satisfied: nvidia-cusolver-cu12==11.4.5.107 in /workspaces/Agentic_rag/.venv/lib/python3.12/site-packages (from torch>=1.11.0->sentence-transformers>=2.6.0->langchain_huggingface) (11.4.5.107)\n",
            "Requirement already satisfied: nvidia-cusparse-cu12==12.1.0.106 in /workspaces/Agentic_rag/.venv/lib/python3.12/site-packages (from torch>=1.11.0->sentence-transformers>=2.6.0->langchain_huggingface) (12.1.0.106)\n",
            "Requirement already satisfied: nvidia-nccl-cu12==2.20.5 in /workspaces/Agentic_rag/.venv/lib/python3.12/site-packages (from torch>=1.11.0->sentence-transformers>=2.6.0->langchain_huggingface) (2.20.5)\n",
            "Requirement already satisfied: nvidia-nvtx-cu12==12.1.105 in /workspaces/Agentic_rag/.venv/lib/python3.12/site-packages (from torch>=1.11.0->sentence-transformers>=2.6.0->langchain_huggingface) (12.1.105)\n",
            "Requirement already satisfied: triton==3.0.0 in /workspaces/Agentic_rag/.venv/lib/python3.12/site-packages (from torch>=1.11.0->sentence-transformers>=2.6.0->langchain_huggingface) (3.0.0)\n",
            "Requirement already satisfied: nvidia-nvjitlink-cu12 in /workspaces/Agentic_rag/.venv/lib/python3.12/site-packages (from nvidia-cusolver-cu12==11.4.5.107->torch>=1.11.0->sentence-transformers>=2.6.0->langchain_huggingface) (12.6.85)\n",
            "Requirement already satisfied: mypy-extensions>=0.3.0 in /workspaces/Agentic_rag/.venv/lib/python3.12/site-packages (from typing-inspect<1,>=0.4.0->dataclasses-json<0.7,>=0.5.7->langchain_community) (1.0.0)\n",
            "Requirement already satisfied: humanfriendly>=9.1 in /workspaces/Agentic_rag/.venv/lib/python3.12/site-packages (from coloredlogs->onnxruntime>=1.14.1->chromadb) (10.0)\n",
            "Requirement already satisfied: joblib>=1.2.0 in /workspaces/Agentic_rag/.venv/lib/python3.12/site-packages (from scikit-learn->sentence-transformers>=2.6.0->langchain_huggingface) (1.4.2)\n",
            "Requirement already satisfied: threadpoolctl>=3.1.0 in /workspaces/Agentic_rag/.venv/lib/python3.12/site-packages (from scikit-learn->sentence-transformers>=2.6.0->langchain_huggingface) (3.5.0)\n",
            "Requirement already satisfied: mpmath<1.4,>=1.1.0 in /workspaces/Agentic_rag/.venv/lib/python3.12/site-packages (from sympy->onnxruntime>=1.14.1->chromadb) (1.3.0)\n",
            "Requirement already satisfied: pyasn1<0.7.0,>=0.4.6 in /workspaces/Agentic_rag/.venv/lib/python3.12/site-packages (from pyasn1-modules>=0.2.1->google-auth>=1.0.1->kubernetes>=28.1.0->chromadb) (0.6.1)\n",
            "Requirement already satisfied: MarkupSafe>=2.0 in /workspaces/Agentic_rag/.venv/lib/python3.12/site-packages (from jinja2->torch>=1.11.0->sentence-transformers>=2.6.0->langchain_huggingface) (3.0.2)\n",
            "Downloading pypdf-5.1.0-py3-none-any.whl (297 kB)\n",
            "Installing collected packages: pypdf\n",
            "Successfully installed pypdf-5.1.0\n",
            "Note: you may need to restart the kernel to use updated packages.\n"
          ]
        }
      ],
      "source": [
        "%pip install langchain langgraph langchain_community langchain_huggingface chromadb pypdf"
      ]
    },
    {
      "cell_type": "code",
      "execution_count": 2,
      "metadata": {
        "id": "eDdxbKqSp4FA"
      },
      "outputs": [],
      "source": [
        "from langchain_core.documents import Document\n",
        "from langchain.text_splitter import RecursiveCharacterTextSplitter\n",
        "from langchain_core.vectorstores import InMemoryVectorStore\n",
        "from langchain.embeddings import HuggingFaceEmbeddings\n",
        "from langchain.document_loaders import PyPDFLoader"
      ]
    },
    {
      "cell_type": "code",
      "execution_count": 5,
      "metadata": {
        "colab": {
          "base_uri": "https://localhost:8080/"
        },
        "id": "XNQvBw0rseQX",
        "outputId": "aa50c254-84d7-4bbf-b34c-5d4517e1647b"
      },
      "outputs": [
        {
          "name": "stderr",
          "output_type": "stream",
          "text": [
            "/tmp/ipykernel_9373/330497445.py:16: LangChainDeprecationWarning: The class `HuggingFaceEmbeddings` was deprecated in LangChain 0.2.2 and will be removed in 1.0. An updated version of the class exists in the :class:`~langchain-huggingface package and should be used instead. To use it run `pip install -U :class:`~langchain-huggingface` and import as `from :class:`~langchain_huggingface import HuggingFaceEmbeddings``.\n",
            "  embedding = HuggingFaceEmbeddings(model_name=\"BAAI/bge-small-en-v1.5\")\n",
            "/workspaces/Agentic_rag/.venv/lib/python3.12/site-packages/tqdm/auto.py:21: TqdmWarning: IProgress not found. Please update jupyter and ipywidgets. See https://ipywidgets.readthedocs.io/en/stable/user_install.html\n",
            "  from .autonotebook import tqdm as notebook_tqdm\n"
          ]
        },
        {
          "name": "stdout",
          "output_type": "stream",
          "text": [
            "[Document(id='e6d6f875-31ab-44d2-afa2-b696523b8273', metadata={'source': 'A Comprehensive Langchain Guide.pdf', 'page': 0}, page_content='LangChain is a Python library designed tosimplify thedevelopment of applications that utilizelargelanguagemodels(LLMs), suchasthosefromOpenAI, HuggingFace, andotherproviders.As artificial intelligence evolves, LLMs have proven to be powerful tools across industries,enabling applications that generate text, answer questions, summarize documents, and evenassist withdecision-makingprocesses. However, buildingsophisticatedapplicationsusingLLMscan be challenging due to the complexities of chaining'), Document(id='cea2cda6-1243-4432-b72c-3c574b97d9be', metadata={'source': 'A Comprehensive Langchain Guide.pdf', 'page': 1}, page_content='1. LLM Wrappers: These wrappers enable developers to interact with LLMs through a commoninterface, abstracting away the complexities of different APIs. For example, with the sameOpenAIwrapper, youcaneasilyswitchmodelsbychangingconfigurationparameters.2. Prompt Templates: LangChain offers tools for crafting structured prompts that can adapt todifferent inputs, enhancingconsistencyinresponsesacrossvariedqueries. Prompt templatesareideal for building applications where prompts are dynamically'), Document(id='cc958c7b-efd1-4517-ac7f-c97540104a60', metadata={'source': 'A Comprehensive Langchain Guide.pdf', 'page': 1}, page_content='LangChain’s designphilosophy centers ontheneedforflexibilityandmodularityinworkingwithLLMs. Without LangChain, developersfaceseveral challenges:'), Document(id='6fc13628-7e36-479c-8d5f-eeebc1352fcc', metadata={'source': 'A Comprehensive Langchain Guide.pdf', 'page': 1}, page_content='providingout-of-the-box support for various LLM providers. This integration simplifies the process ofswitchingbetweenprovidersormodelswithout extensivecoderewrites.5. Enhanced Scalability and Modularity: By breaking down complex interactions into reusablecomponents, LangChain encourages clean, modular code that’s easier to debug, extend, andmaintain. This approach also makes it straightforward to scale applications or integrate newfeatureswithout disruptingexistingfunctionality.')]\n",
            "Result 1:\n",
            "Content: LangChain is a Python library designed tosimplify thedevelopment of applications that utilizelargelanguagemodels(LLMs), suchasthosefromOpenAI, HuggingFace, andotherproviders.As artificial intelligence evolves, LLMs have proven to be powerful tools across industries,enabling applications that generate text, answer questions, summarize documents, and evenassist withdecision-makingprocesses. However, buildingsophisticatedapplicationsusingLLMscan be challenging due to the complexities of chaining\n",
            "Result 2:\n",
            "Content: 1. LLM Wrappers: These wrappers enable developers to interact with LLMs through a commoninterface, abstracting away the complexities of different APIs. For example, with the sameOpenAIwrapper, youcaneasilyswitchmodelsbychangingconfigurationparameters.2. Prompt Templates: LangChain offers tools for crafting structured prompts that can adapt todifferent inputs, enhancingconsistencyinresponsesacrossvariedqueries. Prompt templatesareideal for building applications where prompts are dynamically\n"
          ]
        },
        {
          "name": "stderr",
          "output_type": "stream",
          "text": [
            "/tmp/ipykernel_9373/330497445.py:29: LangChainDeprecationWarning: The method `BaseRetriever.get_relevant_documents` was deprecated in langchain-core 0.1.46 and will be removed in 1.0. Use :meth:`~invoke` instead.\n",
            "  results = retriever.get_relevant_documents(query)\n"
          ]
        }
      ],
      "source": [
        "\n",
        "# 1. Load PDF documents\n",
        "# Specify the path to your PDF file\n",
        "pdf_loader = PyPDFLoader(\"A Comprehensive Langchain Guide.pdf\")\n",
        "docs_list = pdf_loader.load()  # Load and parse the PDF content into Document objects\n",
        "\n",
        "# 2. Split documents into smaller chunks\n",
        "text_splitter = RecursiveCharacterTextSplitter(\n",
        "    chunk_size=500,  # Size of each chunk\n",
        "    chunk_overlap=100,  # Overlap between chunks\n",
        "    length_function=len,  # Function to measure chunk length\n",
        "    is_separator_regex=False,  # If the separator is regex-based\n",
        ")\n",
        "doc_splits = text_splitter.split_documents(docs_list)\n",
        "\n",
        "# 3. Generate embeddings\n",
        "embedding = HuggingFaceEmbeddings(model_name=\"BAAI/bge-small-en-v1.5\")\n",
        "\n",
        "# 4. Initialize the vector store\n",
        "vectorstore = InMemoryVectorStore(embedding=embedding)\n",
        "\n",
        "# 5. Add documents to the vector store\n",
        "vectorstore.add_documents(doc_splits)\n",
        "\n",
        "# 6. Create a retriever for querying\n",
        "retriever = vectorstore.as_retriever(search_kwargs={\"k\":2})\n",
        "\n",
        "# Example usage of the retriever\n",
        "query = \"Langchain features for building llm applications\"\n",
        "results = retriever.get_relevant_documents(query)\n",
        "docs = vectorstore.similarity_search(query)\n",
        "print(docs)\n",
        "\n",
        "# Print the top results\n",
        "for i, result in enumerate(results, 1):\n",
        "    print(f\"Result {i}:\")\n",
        "    print(f\"Content: {result.page_content}\")\n",
        "    # print(f\"Metadata: {result.metadata}\")\n",
        "    # print(\"\\n\")\n"
      ]
    },
    {
      "cell_type": "code",
      "execution_count": 6,
      "metadata": {
        "colab": {
          "base_uri": "https://localhost:8080/"
        },
        "id": "WVEv9rgIrdCt",
        "outputId": "8b5a9b42-3938-41b5-9446-07e3f945f240"
      },
      "outputs": [
        {
          "name": "stdout",
          "output_type": "stream",
          "text": [
            "Content: Prompt templatesareideal for building applications where prompts are dynamically generated, suchaschatbots, Q&Asystems, orcontent generationtools.3. Chains: LangChain’s chaining capabilities allowdeveloperstolinkmultiplecomponentstogether,creating workflows where each step relies on the previous one’s output. For instance, asummarization workflowmight involve a pre-processing step, followed by a text generationstep,\n"
          ]
        }
      ],
      "source": [
        "retriever = vectorstore.as_retriever(search_kwargs={\"k\":1})\n",
        "query = \"what are prompttemplates in langchain\"\n",
        "results = retriever.get_relevant_documents(query)\n",
        "\n",
        "for i, result in enumerate(results, 1):\n",
        "    print(f\"Content: {result.page_content}\")"
      ]
    }
  ],
  "metadata": {
    "accelerator": "GPU",
    "colab": {
      "gpuType": "T4",
      "provenance": []
    },
    "kernelspec": {
      "display_name": ".venv",
      "language": "python",
      "name": "python3"
    },
    "language_info": {
      "codemirror_mode": {
        "name": "ipython",
        "version": 3
      },
      "file_extension": ".py",
      "mimetype": "text/x-python",
      "name": "python",
      "nbconvert_exporter": "python",
      "pygments_lexer": "ipython3",
      "version": "3.12.1"
    }
  },
  "nbformat": 4,
  "nbformat_minor": 0
}
